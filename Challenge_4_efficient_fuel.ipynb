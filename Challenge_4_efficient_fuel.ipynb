{
 "cells": [
  {
   "cell_type": "code",
   "execution_count": 32,
   "metadata": {},
   "outputs": [],
   "source": [
    "#This method is much longer and does not always result in the correct answer apparently, turns out there is\n",
    "# a proof for this and it involves checking the numbers binary form\n",
    "import math\n",
    "def solution(pellets):\n",
    "    \n",
    "    p = float(pellets)\n",
    "    l = float('inf')\n",
    "    shortest_path = solution_helper(p, l, [], [])\n",
    "\n",
    "    return print_as_string(pellets, shortest_path)\n",
    "\n",
    "def solution_helper(pellets, length, current_sp, best_sp):\n",
    "    \n",
    "    if math.log2(pellets) % 1 == 0:\n",
    "        return list(current_sp)\n",
    "    \n",
    "    #only continue searching down this route if we've taken less steps than shortest path\n",
    "    if current_sp < length:\n",
    "        if pellets % 2 == 0:\n",
    "            current_sp.append(pellets / 2)\n",
    "            new_sp = solution_helper(pellets, length + 1, list(current_sp), best_sp)\n",
    "            if check(new_sp, best_sp):\n",
    "                best_sp = new_sp\n",
    "        current_sp.append(pellets + 1)\n",
    "        new_sp = solution_helper(pellets, length + 1, list(current_sp), best_sp)\n",
    "        if check(new_sp, best_sp):\n",
    "            best_sp = new_sp\n",
    "        current_sp.append(pellets - 1)\n",
    "        new_sp = solution_helper(pellets, length + 1, list(current_sp), best_sp)\n",
    "        if check(new_sp, best_sp):\n",
    "            best_sp = new_sp\n",
    "        \n",
    "def check(current, best):\n",
    "    if len(current) < len(best):\n",
    "        return True\n",
    "    else:\n",
    "        return False\n",
    "\n",
    "def shortest_path(pellets, path):\n",
    "    n = f'{pellets}: '\n",
    "    for i in path:\n",
    "        n += str(i)\n",
    "        if i < path[-1]:\n",
    "            n += ' -> '\n",
    "    return n"
   ]
  },
  {
   "cell_type": "code",
   "execution_count": 55,
   "metadata": {},
   "outputs": [],
   "source": [
    "def solution(n):\n",
    "    n = int(n)\n",
    "    count = 0\n",
    "    while n > 1:\n",
    "        if bin(n)[-1] == '0':\n",
    "            n /= 2\n",
    "        elif n == 3 or bin(n-1)[::-1].index('1') > bin(n+1)[::-1].index('1'):\n",
    "            n -= 1\n",
    "        else:\n",
    "            n += 1\n",
    "        count += 1\n",
    "    return count\n",
    "\n",
    "solution('59')\n",
    "    \n"
   ]
  }
 ],
 "metadata": {
  "kernelspec": {
   "display_name": "Python 3",
   "language": "python",
   "name": "python3"
  },
  "language_info": {
   "codemirror_mode": {
    "name": "ipython",
    "version": 3
   },
   "file_extension": ".py",
   "mimetype": "text/x-python",
   "name": "python",
   "nbconvert_exporter": "python",
   "pygments_lexer": "ipython3",
   "version": "3.7.6"
  }
 },
 "nbformat": 4,
 "nbformat_minor": 4
}
