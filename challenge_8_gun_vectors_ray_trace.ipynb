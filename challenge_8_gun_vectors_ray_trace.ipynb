{
 "cells": [
  {
   "cell_type": "markdown",
   "metadata": {},
   "source": [
    "# Original Attempt\n",
    "This was a first attempt at solving the problem of tracking light paths through the box.  While it is technically functional, there is no way to guarantee that you are trying all the possible paths in which the light ray may travel which means that there will be times that it misses a possible solution.  Additionally, it is really slow because it is basically ray tracing.  Use the other solution which involves taking the mirror image of the room to find possible solutions"
   ]
  },
  {
   "cell_type": "code",
   "execution_count": 145,
   "metadata": {},
   "outputs": [],
   "source": [
    "def solution(dimensions, your_position, guard_position, distance):\n",
    "    \n",
    "    \n",
    "    return len(solutions)\n",
    "\n",
    "def solution_helper(dimensions, you, guard, distance, solutions):\n",
    "    return False\n",
    "\n",
    "def distance_to_wall(current, dimensions, vector):\n",
    "    return True\n",
    "\n",
    "def are_colinear(start, end, vector):\n",
    "    \"\"\"\n",
    "    Given a vector, representing the slope, do both points reside on the same line?\"\"\"\n",
    "    if (vector[1]*(end[0]-start[0])) / vector[0] == end[1]-start[1]:\n",
    "        return True\n",
    "    return False\n",
    "\n",
    "def is_straight_path(start,end):\n",
    "    \"\"\"\n",
    "    Returns true if there is a horizontal or vertical line path between the two points\"\"\"\n",
    "    difference = [i - j for i,j in zip(start,end)]\n",
    "    if 0 in difference:\n",
    "        return True\n",
    "    return False\n",
    "\n",
    "def get_vectors(dimensions):\n",
    "    from itertools import product\n",
    "    x = dimensions[0]\n",
    "    y = dimensions[1]\n",
    "    all_vectors = product(range(-x,x+1),range(-y,y+1))\n",
    "    \n",
    "    return [[i[0],i[1]] for i in all_vectors if 0 not in i]\n",
    "\n",
    "def get_distance(start, end):\n",
    "    \"\"\"\n",
    "    Get the euclidean distance between two points\"\"\"\n",
    "    distance = [(i-j)**2 for i,j in zip(start,end)]\n",
    "    return math.sqrt(sum(distance))"
   ]
  },
  {
   "cell_type": "code",
   "execution_count": 126,
   "metadata": {},
   "outputs": [],
   "source": [
    "def find_next_wall(wall, loc, dim, v):\n",
    "    \"\"\"\n",
    "    Parameters: wall you are currently on as char(u,r,l,d) location and dimensions and vector as arrays\n",
    "    Returns the wall you will travel to next as char\"\"\"\n",
    "    d = {'r':find_from_vert,\n",
    "         'u':find_from_horz,\n",
    "         'l':find_from_vert,\n",
    "         'd':find_from_horz,\n",
    "         'p':find_from_point}\n",
    "    if wall == 'r' or wall == 'u':\n",
    "        s = -1\n",
    "    else:\n",
    "        s = 1\n",
    "    m = Fraction(v[1], v[0])\n",
    "    \n",
    "    return d[wall](wall, dim, s, m, loc)\n",
    "        \n",
    "def find_from_horz(wall, dim, s, m, loc):\n",
    "    ymax = dim[1]\n",
    "    ans = (s*ymax) / m + loc[0]\n",
    "    if ans < 0:\n",
    "        return 'l'\n",
    "    elif ans < ymax:\n",
    "        if wall == 'd':\n",
    "            return 'u'\n",
    "        else:\n",
    "            return 'd'\n",
    "    else:\n",
    "        return 'r'\n",
    "    \n",
    "def find_from_vert(wall, dim, s, m, loc):\n",
    "    xmax = dim[0]\n",
    "    ans = m * s * xmax + loc[1]\n",
    "    if ans < 0:\n",
    "        return 'd'\n",
    "    elif ans < xmax:\n",
    "        if wall == 'r':\n",
    "            return 'l'\n",
    "        else:\n",
    "            return 'r'\n",
    "    else:\n",
    "        return 'u'\n",
    "    \n",
    "def find_from_point(wall, dim, s, m, loc):\n",
    "    \"\"\"\n",
    "    return which wall the vector will travel to when from a point, not a wall\n",
    "    wall is still a parameter so that I can use it in the same dictionary from the\n",
    "    find_next_wall function\"\"\"\n",
    "    if m.numerator >= 0:\n",
    "        s = dim[0]\n",
    "    else:\n",
    "        s = 0\n",
    "    ans = m * (s-loc[0]) + loc[1]\n",
    "    if ans < 0:\n",
    "        return 'd'\n",
    "    elif ans < dim[1]:\n",
    "        if m.numerator >= 0:\n",
    "            return 'r'\n",
    "        else:\n",
    "            return 'l'\n",
    "    elif m.numerator >=0:\n",
    "        return 'u'\n",
    "    else:\n",
    "        return 'r'"
   ]
  },
  {
   "cell_type": "code",
   "execution_count": 173,
   "metadata": {},
   "outputs": [],
   "source": [
    "def find_intersection(wall, loc, dim, v):\n",
    "    \"\"\"\n",
    "    Take a current lcoation, dimensions of room and vector as arrays.  wall is where you're going\n",
    "    Return the location on the wall that the intersection occurs\"\"\"\n",
    "    m = Fraction(v[1], v[0])\n",
    "    d = {'u':u_d_intersection,\n",
    "         'r':r_l_intersection,\n",
    "         'd':u_d_intersection,\n",
    "         'l':r_l_intersection}\n",
    "    \n",
    "    #scalar depends on the wall we're going to\n",
    "    if wall == 'l' or wall == 'd':\n",
    "        s = 0\n",
    "    elif wall == 'r':\n",
    "        s = dim[0]\n",
    "    else:\n",
    "        s = dim[1]\n",
    "     \n",
    "    intersection = d[wall](m, s, loc)\n",
    "    if wall == 'r':\n",
    "        return [dim[0], intersection]\n",
    "    elif wall == 'l':\n",
    "        return [0, intersection]\n",
    "    elif wall == 'u':\n",
    "        return [intersection, dim[1]]\n",
    "    else:\n",
    "        return [intersection, 0]\n",
    "\n",
    "def r_l_intersection(m, s, loc):\n",
    "    return m * (s - loc[0]) + loc[1]\n",
    "\n",
    "def u_d_intersection(m, s, loc):\n",
    "    return (s - loc[1]) / m + loc[0]\n",
    "\n",
    "def get_new_vector(wall, v):\n",
    "    d = {'u':[1,-1],\n",
    "         'r':[-1,1],\n",
    "         'd':[1,-1],\n",
    "         'l':[-1,1],\n",
    "         'c':[-1,-1]}\n",
    "    return [Fraction(i*j) for i,j in zip(v,d[wall])]\n",
    "\n",
    "def is_corner(loc, dim):\n",
    "    corners = [[i[0],i[1]] for i in product([dim[0],0],[0,dim[1]])]\n",
    "    if loc in corners:\n",
    "        return True\n",
    "    return False"
   ]
  },
  {
   "cell_type": "code",
   "execution_count": 178,
   "metadata": {},
   "outputs": [
    {
     "name": "stdout",
     "output_type": "stream",
     "text": [
      "1 [Fraction(5, 2), 2] u [Fraction(3, 1), Fraction(-2, 1)]\n",
      "2 [3, Fraction(5, 3)] r [Fraction(-3, 1), Fraction(-2, 1)]\n",
      "3 [Fraction(1, 2), 0] d [Fraction(-3, 1), Fraction(2, 1)]\n",
      "4 [0, Fraction(1, 3)] l [Fraction(3, 1), Fraction(2, 1)]\n",
      "5 [3, Fraction(7, 3)] r [Fraction(-3, 1), Fraction(2, 1)]\n",
      "6 [Fraction(7, 2), 2] u [Fraction(-3, 1), Fraction(-2, 1)]\n",
      "7 [Fraction(1, 2), 0] d [Fraction(-3, 1), Fraction(2, 1)]\n",
      "8 [0, Fraction(1, 3)] l [Fraction(3, 1), Fraction(2, 1)]\n",
      "9 [3, Fraction(7, 3)] r [Fraction(-3, 1), Fraction(2, 1)]\n",
      "10 [Fraction(7, 2), 2] u [Fraction(-3, 1), Fraction(-2, 1)]\n"
     ]
    }
   ],
   "source": [
    "from fractions import Fraction\n",
    "n = 10\n",
    "v = [3,2]\n",
    "dim = [3,2]\n",
    "wall = 'p'\n",
    "loc = [1,1]\n",
    "target = [2,1]\n",
    "path = [[Fraction(loc[0],1), Fraction(loc[1],1)]]\n",
    "while n > 0:\n",
    "    wall = find_next_wall(wall,loc, dim, v)\n",
    "    loc = find_intersection(wall, loc, dim, v)\n",
    "    v = get_new_vector(wall,v)\n",
    "    print(abs(n-11),loc,wall,v)\n",
    "    path.append(loc)\n",
    "    n -= 1\n",
    "    \n",
    "    "
   ]
  },
  {
   "cell_type": "code",
   "execution_count": 179,
   "metadata": {},
   "outputs": [
    {
     "data": {
      "text/plain": [
       "3.6055512754639887"
      ]
     },
     "execution_count": 179,
     "metadata": {},
     "output_type": "execute_result"
    }
   ],
   "source": [
    "a = [1,1]\n",
    "b = [5/2,2]\n",
    "c = [3,5/3]\n",
    "d = [2,1]\n",
    "get_distance(a,b)+get_distance(b,c)+get_distance(c,d)"
   ]
  },
  {
   "cell_type": "code",
   "execution_count": 180,
   "metadata": {},
   "outputs": [
    {
     "data": {
      "text/plain": [
       "3.605551275463989"
      ]
     },
     "execution_count": 180,
     "metadata": {},
     "output_type": "execute_result"
    }
   ],
   "source": [
    "get_distance([0,0],[3,2])"
   ]
  },
  {
   "cell_type": "markdown",
   "metadata": {},
   "source": [
    "## Test Case Number 1"
   ]
  },
  {
   "cell_type": "code",
   "execution_count": 148,
   "metadata": {},
   "outputs": [
    {
     "name": "stdout",
     "output_type": "stream",
     "text": [
      "7\n"
     ]
    }
   ],
   "source": [
    "#Test Number 1\n",
    "from fractions import Fraction\n",
    "dist = 4\n",
    "dim = [3,2]\n",
    "original_wall = 'p'\n",
    "original_loc = [1,1]\n",
    "paths = []\n",
    "target = [2,1]\n",
    "if is_straight_path(original_loc,target):\n",
    "    if get_distance(original_loc, target) <= dist:\n",
    "        paths.append([0,0])\n",
    "for v in get_vectors(dim):\n",
    "    #print(\"Trying:\",v)\n",
    "    n = dist\n",
    "    fired = v\n",
    "    loc = original_loc\n",
    "    wall = original_wall\n",
    "    path = [original_loc]\n",
    "    while n >= 0:\n",
    "        wall = find_next_wall(wall,loc, dim, v)\n",
    "        if are_colinear(loc,target,v):\n",
    "            if n - get_distance(loc,target) >= 0:\n",
    "                paths.append(fired)\n",
    "        end = find_intersection(wall, loc, dim, v)\n",
    "        v = get_new_vector(wall,v)\n",
    "        #path.append(end)\n",
    "        n -= get_distance(loc,end)\n",
    "        loc = end\n",
    "    #print(path)\n",
    "    #path.clear()\n",
    "print(len(paths))"
   ]
  },
  {
   "cell_type": "markdown",
   "metadata": {},
   "source": [
    "## Test Case Number 2"
   ]
  },
  {
   "cell_type": "code",
   "execution_count": 160,
   "metadata": {},
   "outputs": [
    {
     "name": "stdout",
     "output_type": "stream",
     "text": [
      "[-265, 250]\n",
      "[-212, -240]\n",
      "[-189, 270]\n",
      "[-28, -240]\n",
      "4\n"
     ]
    }
   ],
   "source": [
    "from fractions import Fraction\n",
    "dist = 500\n",
    "dim = [300,275]\n",
    "original_wall = 'p'\n",
    "original_loc = [150,150]\n",
    "paths = []\n",
    "target = [185,100]\n",
    "vectors_tried = []\n",
    "\n",
    "if is_straight_path(original_loc,target):\n",
    "    if get_distance(original_loc, target) <= dist:\n",
    "        paths.append([0,0])\n",
    "        \n",
    "for v in get_vectors(dim):\n",
    "    t = v[1] / v[0]\n",
    "    if t in vectors_tried:\n",
    "        continue\n",
    "    vectors_tried.append(t)\n",
    "    n = dist\n",
    "    fired = v\n",
    "    loc = original_loc\n",
    "    wall = original_wall\n",
    "    path = [original_loc]\n",
    "    while n >= 0:\n",
    "        wall = find_next_wall(wall,loc, dim, v)\n",
    "        if are_colinear(loc,target,v):\n",
    "            if n - get_distance(loc,target) >= 0:\n",
    "                paths.append(fired)\n",
    "                print(paths[-1])\n",
    "                break\n",
    "        end = find_intersection(wall, loc, dim, v)\n",
    "        v = get_new_vector(wall,v)\n",
    "        n -= get_distance(loc,end)\n",
    "        loc = end\n",
    "print(len(paths))"
   ]
  },
  {
   "cell_type": "markdown",
   "metadata": {},
   "source": [
    "## Test Case 3"
   ]
  },
  {
   "cell_type": "code",
   "execution_count": 182,
   "metadata": {},
   "outputs": [
    {
     "name": "stdout",
     "output_type": "stream",
     "text": [
      "[-3, -3]\n",
      "[-3, -1]\n",
      "[-3, 3]\n",
      "[-2, -2]\n",
      "[-2, 2]\n",
      "[-1, -3]\n",
      "[-1, -1]\n",
      "[-1, 1]\n",
      "[1, -1]\n",
      "[1, 1]\n",
      "[1, 3]\n",
      "[2, -2]\n",
      "[2, 2]\n",
      "[3, -3]\n",
      "[3, 1]\n",
      "[3, 3]\n",
      "16\n"
     ]
    }
   ],
   "source": [
    "from fractions import Fraction\n",
    "dist = 8\n",
    "dim = [4,3]\n",
    "original_wall = 'p'\n",
    "original_loc = [2,1]\n",
    "paths = []\n",
    "target = [3,2]\n",
    "vectors_tried = []\n",
    "\n",
    "if is_straight_path(original_loc,target):\n",
    "    if get_distance(original_loc, target) <= dist:\n",
    "        paths.append([0,0])\n",
    "        \n",
    "for v in get_vectors(dim):\n",
    "    #t = Fraction(v[1], v[0]).limit_denominator()\n",
    "    #if t in vectors_tried:\n",
    "    #    continue\n",
    "    #vectors_tried.append(t)\n",
    "    n = dist\n",
    "    fired = v\n",
    "    loc = original_loc\n",
    "    wall = original_wall\n",
    "    path = [original_loc]\n",
    "    while n >= 0:\n",
    "        wall = find_next_wall(wall,loc, dim, v)\n",
    "        if are_colinear(loc,target,v):\n",
    "            if n - get_distance(loc,target) >= 0:\n",
    "                paths.append(fired)\n",
    "                print(paths[-1])\n",
    "                break\n",
    "        end = find_intersection(wall, loc, dim, v)\n",
    "        if is_corner(end,dim):\n",
    "            #print('hit corner')\n",
    "            v = get_new_vector('c',v)\n",
    "        else:\n",
    "            v = get_new_vector(wall,v)\n",
    "        n -= get_distance(loc,end)\n",
    "        loc = end\n",
    "print(len(paths))"
   ]
  },
  {
   "cell_type": "code",
   "execution_count": 6,
   "metadata": {},
   "outputs": [
    {
     "name": "stdout",
     "output_type": "stream",
     "text": [
      "[[1, 0], [-2, -1], [-2, 3], [2, -1], [2, 3], [4, -1], [4, 3]]\n",
      "7\n"
     ]
    }
   ],
   "source": [
    "from itertools import product\n",
    "import math\n",
    "dist = 4\n",
    "dim = [3,2]\n",
    "loc = [1,1]\n",
    "target = [2,1]\n",
    "slope = get_slope(target,loc)\n",
    "xmax = loc[0]+dist\n",
    "ymax = loc[1]+dist\n",
    "\n",
    "distances = [xmax,ymax]\n",
    "\n",
    "vectors = [[target[0]-loc[0],target[1]-loc[1]]]\n",
    "for i in get_mirrors(dim,target,distances):\n",
    "    if get_distance(loc,i) <= dist:\n",
    "        if get_slope(loc,i) != slope:            \n",
    "            vectors.append(i)\n",
    "print(vectors)\n",
    "print(len(vectors))\n"
   ]
  },
  {
   "cell_type": "code",
   "execution_count": 10,
   "metadata": {},
   "outputs": [
    {
     "data": {
      "text/plain": [
       "7"
      ]
     },
     "execution_count": 10,
     "metadata": {},
     "output_type": "execute_result"
    }
   ],
   "source": [
    "solution([3,2],[1,1],[2,1],4)"
   ]
  },
  {
   "cell_type": "code",
   "execution_count": 6,
   "metadata": {},
   "outputs": [],
   "source": [
    "def solution(dim,loc,target,dist):\n",
    "    slope = get_slope(target,loc)\n",
    "    xmax = loc[0]+dist\n",
    "    ymax = loc[1]+dist\n",
    "    \n",
    "    distances = [xmax,ymax]\n",
    "    \n",
    "    vectors = [[target[0]-loc[0],target[1]-loc[1]]]\n",
    "    for i in get_mirrors(dim,target,distances):\n",
    "        if get_distance(loc,i) <= dist:\n",
    "            if get_slope(loc,i) != slope:            \n",
    "                vectors.append(i)\n",
    "    return len(vectors)"
   ]
  },
  {
   "cell_type": "code",
   "execution_count": 8,
   "metadata": {},
   "outputs": [],
   "source": [
    "def get_slope(target,loc):\n",
    "    if target[0] != loc[0]:\n",
    "        return (target[1] - loc[1])/(target[0]-loc[0])\n",
    "    else:\n",
    "        return float(\"inf\")\n",
    "def get_distance(start, end):\n",
    "    import math\n",
    "    \"\"\"\n",
    "    Get the euclidean distance between two points\"\"\"\n",
    "    distance = [(i-j)**2 for i,j in zip(start,end)]\n",
    "    return math.sqrt(sum(distance))"
   ]
  },
  {
   "cell_type": "code",
   "execution_count": 9,
   "metadata": {},
   "outputs": [],
   "source": [
    "def get_mirrors(dim, target, distances):\n",
    "    from itertools import product\n",
    "    right = 2*(dim[0]-target[0])\n",
    "    left = 2*target[0]\n",
    "    up = 2*(dim[1]-target[1])\n",
    "    down = 2*target[1]\n",
    "    x_vals = [target[0]]\n",
    "    y_vals = [target[1]]\n",
    "    n = 1\n",
    "    while x_vals[-1] < distances[0]:\n",
    "        if n % 2 == 0:\n",
    "            x_vals.append(x_vals[-1]+left)\n",
    "        else:\n",
    "            x_vals.append(x_vals[-1]+right)\n",
    "        n+=1\n",
    "    n=1\n",
    "    while y_vals[-1] < distances[1]:\n",
    "        if n % 2 == 0:\n",
    "            y_vals.append(y_vals[-1]+down)\n",
    "        else:\n",
    "            y_vals.append(y_vals[-1]+up)\n",
    "        n+=1\n",
    "    x_neg = [-i for i in x_vals]\n",
    "    y_neg = [-i for i in y_vals]\n",
    "    x = x_neg + x_vals\n",
    "    y = y_neg + y_vals\n",
    "    possible = [[i[0],i[1]] for i in product(x,y)]\n",
    "    #print(possible)\n",
    "    return possible"
   ]
  },
  {
   "cell_type": "code",
   "execution_count": null,
   "metadata": {},
   "outputs": [],
   "source": []
  }
 ],
 "metadata": {
  "kernelspec": {
   "display_name": "Python 3",
   "language": "python",
   "name": "python3"
  },
  "language_info": {
   "codemirror_mode": {
    "name": "ipython",
    "version": 3
   },
   "file_extension": ".py",
   "mimetype": "text/x-python",
   "name": "python",
   "nbconvert_exporter": "python",
   "pygments_lexer": "ipython3",
   "version": "3.7.4"
  }
 },
 "nbformat": 4,
 "nbformat_minor": 4
}
