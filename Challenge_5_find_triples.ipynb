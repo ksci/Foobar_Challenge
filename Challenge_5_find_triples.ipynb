{
 "cells": [
  {
   "cell_type": "markdown",
   "metadata": {},
   "source": [
    "## Google foobar"
   ]
  },
  {
   "cell_type": "code",
   "execution_count": 12,
   "metadata": {},
   "outputs": [],
   "source": [
    "def solution(l):\n",
    "    count = 0\n",
    "    size = len(l)\n",
    "    if size < 3: return 0\n",
    "\n",
    "    multiples = [0] * size\n",
    "    for i in xrange(size):\n",
    "        for j in xrange(i + 1, size):\n",
    "            if l[i] % l[j] == 0:\n",
    "                multiples[j] += 1\n",
    "                count += multiples[i]\n",
    "\n",
    "    return count,multiples"
   ]
  },
  {
   "cell_type": "markdown",
   "metadata": {},
   "source": [
    "## Hackerrank but too slow"
   ]
  },
  {
   "cell_type": "code",
   "execution_count": null,
   "metadata": {},
   "outputs": [],
   "source": [
    "def solution(l,r):\n",
    "    count = 0\n",
    "    size = len(l)\n",
    "    if size < 3: return 0\n",
    "\n",
    "    multiples = [0] * size\n",
    "    for i in range(size):\n",
    "        for j in range(i + 1, size):\n",
    "            if l[i] * r == l[j]:\n",
    "                multiples[j] += 1\n",
    "                count += multiples[i]\n",
    "\n",
    "    return count,multiples"
   ]
  },
  {
   "cell_type": "markdown",
   "metadata": {},
   "source": [
    "## Hackerrank with dictionaries"
   ]
  },
  {
   "cell_type": "code",
   "execution_count": 57,
   "metadata": {},
   "outputs": [],
   "source": [
    "def solution(l,r):\n",
    "    from collections import defaultdict\n",
    "    d2 = defaultdict(int)\n",
    "    d3 = defaultdict(int)\n",
    "    count = 0\n",
    "    for i in l:\n",
    "        if i in d3:\n",
    "            count += d3[i]\n",
    "        if i in d2:\n",
    "            d3[i*r] += d2[i]\n",
    "        d2[i*r] += 1\n",
    "        \n",
    "    return count"
   ]
  },
  {
   "cell_type": "code",
   "execution_count": 58,
   "metadata": {},
   "outputs": [
    {
     "data": {
      "text/plain": [
       "6"
      ]
     },
     "execution_count": 58,
     "metadata": {},
     "output_type": "execute_result"
    }
   ],
   "source": [
    "solution([1,3,9,9,27,81],3)"
   ]
  }
 ],
 "metadata": {
  "kernelspec": {
   "display_name": "Python 3",
   "language": "python",
   "name": "python3"
  },
  "language_info": {
   "codemirror_mode": {
    "name": "ipython",
    "version": 3
   },
   "file_extension": ".py",
   "mimetype": "text/x-python",
   "name": "python",
   "nbconvert_exporter": "python",
   "pygments_lexer": "ipython3",
   "version": "3.7.6"
  }
 },
 "nbformat": 4,
 "nbformat_minor": 4
}
