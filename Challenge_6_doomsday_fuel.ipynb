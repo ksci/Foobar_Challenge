{
 "cells": [
  {
   "cell_type": "code",
   "execution_count": 61,
   "metadata": {},
   "outputs": [],
   "source": [
    "def solution(a):\n",
    "    from fractions import Fraction\n",
    "    #identify rows that are absorbing states for use later\n",
    "    end_states = []\n",
    "    for i in a:\n",
    "        if sum(i) == 0:\n",
    "            end_states.append(1)\n",
    "        else:\n",
    "            end_states.append(0)\n",
    "            \n",
    "    #create the transition array with correct probabilities\n",
    "    totals = [sum(i) for i in a]\n",
    "    new = []\n",
    "    for i,j in enumerate(a):\n",
    "        if sum(j) == 0:\n",
    "            j[i] = Fraction(1/1)\n",
    "        else:\n",
    "            j = [Fraction(m,totals[i]) for m in j]\n",
    "        new.append(j)\n",
    "    a = list(zip(*new))\n",
    "\n",
    "    #create the initial r array\n",
    "    if len(a[0]) > 1:\n",
    "        z = [0]*(len(a[0])-1)\n",
    "    else:\n",
    "        z = []\n",
    "    r = [1] + z\n",
    "    r = [[i] for i in r]\n",
    "    \n",
    "    #'pagerank' algorithm I used in a modern databases class\n",
    "    #Iteratively finds the probabilites of each rest state\n",
    "    #this is also use for a basic pagerank: (pr = r)\n",
    "    while True:\n",
    "        #dot product multiplication\n",
    "        result = [[sum(i*j for i,j in zip(X_row,Y_col)) for Y_col in zip(*r)] for X_row in a]\n",
    "        difference = [abs(i[0]-j[0]) for i,j in zip(r,result)]        \n",
    "        #breaking iteration threshhold sufficient to allow Fraction to function\n",
    "        if sum(difference) < 0.0000000001 :\n",
    "            break\n",
    "        #update pagerank vector\n",
    "        r = result\n",
    "\n",
    "    return probabilities(end_states,r)\n",
    "    \n",
    "        \n",
    "def probabilities(endstates,arr):\n",
    "    arr = [i[0] for i in arr]\n",
    "    answers = []\n",
    "    \n",
    "    # find common denominator and accompanying numerators\n",
    "    numerators = []\n",
    "    denominators = []\n",
    "    for i in range(len(arr)):\n",
    "        if endstates[i] == 1:\n",
    "            frac = arr[i].limit_denominator()\n",
    "            numerators.append(frac.numerator)\n",
    "            denominators.append(frac.denominator)        \n",
    "    lcm = lcmm(*denominators)\n",
    "    factors = [lcm / i for i in denominators]\n",
    "    numerators = [i * j for i,j in zip(numerators,factors)]               \n",
    "    answers = [int(i) for i in numerators]\n",
    "    answers.append(lcm)\n",
    "    \n",
    "    return answers\n",
    "\n",
    "\n",
    "def gcd(a, b):\n",
    "    while b:      \n",
    "        a, b = b, a % b\n",
    "    return a\n",
    "\n",
    "def lcm(a, b):\n",
    "    return a * b // gcd(a, b)\n",
    "\n",
    "def lcmm(*args):\n",
    "    from functools import reduce  \n",
    "    return reduce(lcm, args)"
   ]
  },
  {
   "cell_type": "code",
   "execution_count": 62,
   "metadata": {},
   "outputs": [
    {
     "data": {
      "text/plain": [
       "[2, 1, 1, 1, 1, 6]"
      ]
     },
     "execution_count": 62,
     "metadata": {},
     "output_type": "execute_result"
    }
   ],
   "source": [
    "arr =  [[1, 1, 1, 0, 1, 0, 1, 0, 1, 0],\n",
    "        [0, 0, 0, 0, 0, 0, 0, 0, 0, 0],\n",
    "        [1, 0, 1, 1, 1, 0, 1, 0, 1, 0],\n",
    "        [0, 0, 0, 0, 0, 0, 0, 0, 0, 0],\n",
    "        [1, 0, 1, 0, 1, 1, 1, 0, 1, 0],\n",
    "        [0, 0, 0, 0, 0, 0, 0, 0, 0, 0],\n",
    "        [1, 0, 1, 0, 1, 0, 1, 1, 1, 0],\n",
    "        [0, 0, 0, 0, 0, 0, 0, 0, 0, 0],\n",
    "        [1, 0, 1, 0, 1, 0, 1, 0, 1, 1],\n",
    "        [0, 0, 0, 0, 0, 0, 0, 0, 0, 0]\n",
    "    ]\n",
    "a = solution(arr)\n",
    "a"
   ]
  },
  {
   "cell_type": "code",
   "execution_count": 71,
   "metadata": {},
   "outputs": [
    {
     "data": {
      "text/plain": [
       "[1, 1]"
      ]
     },
     "execution_count": 71,
     "metadata": {},
     "output_type": "execute_result"
    }
   ],
   "source": [
    "solution([[0]])"
   ]
  },
  {
   "cell_type": "code",
   "execution_count": 64,
   "metadata": {},
   "outputs": [
    {
     "data": {
      "text/plain": [
       "[1, 2, 3]"
      ]
     },
     "execution_count": 64,
     "metadata": {},
     "output_type": "execute_result"
    }
   ],
   "source": [
    "arr2 =[[1,2,3,0,0,0],\n",
    "       [4,5,6,0,0,0],\n",
    "       [7,8,9,1,0,0],\n",
    "       [0,0,0,0,1,2],\n",
    "       [0,0,0,0,0,0],\n",
    "       [0,0,0,0,0,0]]\n",
    "solution(arr2)"
   ]
  }
 ],
 "metadata": {
  "kernelspec": {
   "display_name": "Python 3",
   "language": "python",
   "name": "python3"
  },
  "language_info": {
   "codemirror_mode": {
    "name": "ipython",
    "version": 3
   },
   "file_extension": ".py",
   "mimetype": "text/x-python",
   "name": "python",
   "nbconvert_exporter": "python",
   "pygments_lexer": "ipython3",
   "version": "3.7.4"
  }
 },
 "nbformat": 4,
 "nbformat_minor": 4
}
