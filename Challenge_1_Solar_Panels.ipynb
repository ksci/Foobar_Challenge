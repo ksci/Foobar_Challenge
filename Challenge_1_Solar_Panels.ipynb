{
 "cells": [
  {
   "cell_type": "code",
   "execution_count": 19,
   "metadata": {},
   "outputs": [],
   "source": [
    "def solution(area):\n",
    "    \"\"\"\n",
    "    Parameters: area which represents the size of solar panel you have to begin with\n",
    "    Must be an integer between 1 and 1 000 000 inclusive\n",
    "    Return: list of square areas that can be made from the original material\n",
    "    Throws: Value error if out of bounds and type error if not integer\n",
    "    \"\"\"\n",
    "    import math\n",
    "    if area > 1000000 or area < 1:\n",
    "        raise ValueError('Value must be between 1 and 1000000 inclusive')\n",
    "    if type(area) is not int:\n",
    "        raise TypeError('Value must be an integer')\n",
    "    squares = []\n",
    "    \n",
    "    while area > 0:\n",
    "        largest_square = int(math.sqrt(area))\n",
    "        area -= largest_square**2\n",
    "        squares.append(largest_square**2)\n",
    "    return squares\n",
    "\n"
   ]
  },
  {
   "cell_type": "code",
   "execution_count": 21,
   "metadata": {},
   "outputs": [
    {
     "data": {
      "text/plain": [
       "[9, 1]"
      ]
     },
     "execution_count": 21,
     "metadata": {},
     "output_type": "execute_result"
    }
   ],
   "source": [
    "solution(10)"
   ]
  }
 ],
 "metadata": {
  "kernelspec": {
   "display_name": "Python 3",
   "language": "python",
   "name": "python3"
  },
  "language_info": {
   "codemirror_mode": {
    "name": "ipython",
    "version": 3
   },
   "file_extension": ".py",
   "mimetype": "text/x-python",
   "name": "python",
   "nbconvert_exporter": "python",
   "pygments_lexer": "ipython3",
   "version": "3.7.6"
  }
 },
 "nbformat": 4,
 "nbformat_minor": 4
}
