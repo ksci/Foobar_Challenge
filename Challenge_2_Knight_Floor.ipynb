{
 "cells": [
  {
   "cell_type": "code",
   "execution_count": 3,
   "metadata": {},
   "outputs": [],
   "source": [
    "\"\"\"\n",
    "I think this solution is a little more elegant as it uses an adjacency matrix instead of recursion\n",
    "Additionally it should be much faster\"\"\"\n",
    "def solution_array(source, destination):\n",
    "    import numpy as np\n",
    "    A = np.array(create_board(8),dtype=bool)\n",
    "    new = A.copy()\n",
    "    can_move = False\n",
    "    moves = 0\n",
    "    if source == destination:\n",
    "        return 0\n",
    "    \n",
    "    while can_move == False:\n",
    "        if new[source][destination] == True:\n",
    "            can_move = True\n",
    "        else:\n",
    "            new = A.dot(new)            \n",
    "        moves += 1\n",
    "    \n",
    "    return moves\n",
    "\n",
    "\n",
    "def create_board(size=8):\n",
    "    \"\"\"\n",
    "    Board size is how many squares each row\n",
    "    Return an Adjacency matrix with side length equal to size**2 that contains all possible knight moves\"\"\"\n",
    "    board =  [[0 for i in range(size**2)] for j in range(size**2)]\n",
    "    squares = size**2\n",
    "    for i in range(squares - size):\n",
    "        j = []\n",
    "        #Knight right 2 down 1 is possible\n",
    "        if i % size < size - 2:\n",
    "            j.append(i+size+2)           \n",
    "\n",
    "        #Knight left 2 down 1 is possible\n",
    "        if i % size > 1:\n",
    "            j.append(i+size-2)\n",
    "            \n",
    "        if i < size**2 - 2*size:\n",
    "            #Knight Down 2 right 1\n",
    "            if i % size < size - 1:\n",
    "                j.append(i+2*size+1)\n",
    "            \n",
    "            #Knight Down 2 left 1\n",
    "            if i % size > 0:\n",
    "                j.append(i+2*size-1)\n",
    "                \n",
    "        #Add all possible moves from this square to adjacency matrix        \n",
    "        for k in j:\n",
    "            board[i][k] = True\n",
    "            board[k][i] = True\n",
    "        j.clear()\n",
    "    return board"
   ]
  },
  {
   "cell_type": "code",
   "execution_count": 4,
   "metadata": {},
   "outputs": [
    {
     "data": {
      "text/plain": [
       "1"
      ]
     },
     "execution_count": 4,
     "metadata": {},
     "output_type": "execute_result"
    }
   ],
   "source": [
    "solution_array(19,36)"
   ]
  },
  {
   "cell_type": "code",
   "execution_count": 38,
   "metadata": {},
   "outputs": [],
   "source": [
    "def solution(src, dest):\n",
    "    \"\"\"\n",
    "    Parameters: integer starting point and integer ending point based on Commander Lambdas Flooring system layout\n",
    "    Return: Minimum number of steps to reach the destination square while starting from the src square using\n",
    "    traditional knight movement from a standard chessboard\n",
    "    Errors: none, please provide integer values from 0 to 63 inclusive\"\"\"\n",
    "    \n",
    "    solutions_list = {float(\"inf\")}\n",
    "    visited_list = [src]\n",
    "    solutions_list = solution_helper(src, dest, solutions_list, 0, visited_list)\n",
    "    #print(solutions_list)\n",
    "    return min(solutions_list)\n",
    "    \n",
    "def solution_helper(src,dest,solutions_list,current_depth,visited_list):\n",
    "    visited_list.append(src)\n",
    "    minimum = min(solutions_list)\n",
    "    \n",
    "    if src == dest:           \n",
    "        solutions_list.add(current_depth)\n",
    "        return solutions_list.copy()\n",
    "    \n",
    "    #no need to recurse if you've already used more steps than the current minimum\n",
    "    elif minimum > current_depth:\n",
    "        current_depth += 1\n",
    "        \n",
    "        #map the src square to a 2d array\n",
    "        grid_location = to_8bit(src)\n",
    "\n",
    "        #check each possible knight move to see if it will fit on the grid array before making a move\n",
    "        if grid_location[0] > 0 and grid_location[1] < 6 and src-6 not in visited_list:\n",
    "            solutions_list = solution_helper(src-6,dest,solutions_list,current_depth, visited_list.copy()).copy()\n",
    "        if grid_location[0] > 0 and grid_location[1] > 1 and src-10 not in visited_list:\n",
    "            solutions_list = solution_helper(src-10,dest,solutions_list,current_depth, visited_list.copy()).copy()\n",
    "        if grid_location[0] > 1 and grid_location[1] < 7 and src-15 not in visited_list:\n",
    "            solutions_list = solution_helper(src-15,dest,solutions_list,current_depth, visited_list.copy()).copy()\n",
    "        if grid_location[0] > 1 and grid_location[1] > 0 and src-17 not in visited_list:\n",
    "            solutions_list = solution_helper(src-17,dest,solutions_list,current_depth, visited_list.copy()).copy()\n",
    "            \n",
    "        if grid_location[0] < 7 and grid_location[1] > 1 and src+6 not in visited_list:\n",
    "            solutions_list = solution_helper(src+6,dest,solutions_list,current_depth, visited_list.copy()).copy()\n",
    "        if grid_location[0] < 7 and grid_location[1] < 6 and src+10 not in visited_list:\n",
    "            solutions_list = solution_helper(src+10,dest,solutions_list,current_depth, visited_list.copy()).copy()\n",
    "        if grid_location[0] < 6 and grid_location[1] > 0 and src+15 not in visited_list:\n",
    "            solutions_list = solution_helper(src+15,dest,solutions_list,current_depth, visited_list.copy()).copy()\n",
    "        if grid_location[0] < 6 and grid_location[1] < 7 and src+17 not in visited_list:\n",
    "            solutions_list = solution_helper(src+17,dest,solutions_list,current_depth, visited_list.copy()).copy() \n",
    "        \n",
    "    \n",
    "    return solutions_list.copy()\n",
    "\n",
    "def to_8bit(src):\n",
    "    eights = int(src/8)\n",
    "    ones = src % 8\n",
    "    return [eights,ones]\n",
    "    "
   ]
  },
  {
   "cell_type": "code",
   "execution_count": 39,
   "metadata": {},
   "outputs": [
    {
     "data": {
      "text/plain": [
       "1"
      ]
     },
     "execution_count": 39,
     "metadata": {},
     "output_type": "execute_result"
    }
   ],
   "source": [
    "solution(19,36)"
   ]
  }
 ],
 "metadata": {
  "kernelspec": {
   "display_name": "Python 3",
   "language": "python",
   "name": "python3"
  },
  "language_info": {
   "codemirror_mode": {
    "name": "ipython",
    "version": 3
   },
   "file_extension": ".py",
   "mimetype": "text/x-python",
   "name": "python",
   "nbconvert_exporter": "python",
   "pygments_lexer": "ipython3",
   "version": "3.7.4"
  }
 },
 "nbformat": 4,
 "nbformat_minor": 4
}
