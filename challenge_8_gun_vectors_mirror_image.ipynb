{
 "cells": [
  {
   "cell_type": "code",
   "execution_count": 1,
   "metadata": {},
   "outputs": [],
   "source": [
    "def solution(dim,loc,target,dist):\n",
    "    import math\n",
    "    xmax = loc[0]+dist\n",
    "    ymax = loc[1]+dist\n",
    "    \n",
    "    distances = [xmax,ymax]\n",
    "    \n",
    "    angles = {}\n",
    "    for i in get_mirrors(dim,target,distances):\n",
    "        if get_distance(loc,i) <= dist:\n",
    "            angle = math.atan2(i[1]-loc[1],i[0]-loc[0])\n",
    "            if angle not in angles:                \n",
    "                angles[angle] = i\n",
    "                \n",
    "    self_mirrors = get_mirrors(dim,loc,distances)\n",
    "    self_mirrors.remove(loc)\n",
    "    for i in self_mirrors:\n",
    "        angle = math.atan2(i[1]-loc[1],i[0]-loc[0])\n",
    "        if angle in angles:\n",
    "            if get_distance(loc,i) < get_distance(loc,angles[angle]):\n",
    "                del angles[angle]\n",
    "            \n",
    "    return len(angles)\n",
    "   \n",
    "def get_distance(start, end):\n",
    "    import math\n",
    "    \"\"\"\n",
    "    Get the euclidean distance between two points\"\"\"\n",
    "    distance = [(i-j)**2 for i,j in zip(start,end)]\n",
    "    return math.sqrt(sum(distance))\n",
    "\n",
    "def get_mirrors(dim, target, distances):\n",
    "    from itertools import product\n",
    "    \"\"\"\n",
    "    Find all possible mirror images of the guard within a distance that may be reachable\"\"\"\n",
    "    #equations for creating guard mirrored positioning\n",
    "    right = 2*(dim[0]-target[0])\n",
    "    left = 2*target[0]\n",
    "    up = 2*(dim[1]-target[1])\n",
    "    down = 2*target[1]\n",
    "    x_vals = [target[0]]\n",
    "    y_vals = [target[1]]\n",
    "    \n",
    "    n = 1    \n",
    "    while x_vals[-1] < distances[0]:\n",
    "        if n % 2 == 0:\n",
    "            x_vals.append(x_vals[-1]+left)\n",
    "        else:\n",
    "            x_vals.append(x_vals[-1]+right)\n",
    "        n+=1\n",
    "        \n",
    "    n=1\n",
    "    while y_vals[-1] < distances[1]:\n",
    "        if n % 2 == 0:\n",
    "            y_vals.append(y_vals[-1]+down)\n",
    "        else:\n",
    "            y_vals.append(y_vals[-1]+up)\n",
    "        n+=1\n",
    "    x_neg = [-i for i in x_vals]\n",
    "    y_neg = [-i for i in y_vals]\n",
    "    \n",
    "    return [[i[0],i[1]] for i in product(x_neg + x_vals, y_neg + y_vals)]"
   ]
  },
  {
   "cell_type": "code",
   "execution_count": 2,
   "metadata": {},
   "outputs": [
    {
     "data": {
      "text/plain": [
       "7"
      ]
     },
     "execution_count": 2,
     "metadata": {},
     "output_type": "execute_result"
    }
   ],
   "source": [
    "solution([3,2],[1,1],[2,1],4)"
   ]
  },
  {
   "cell_type": "code",
   "execution_count": 3,
   "metadata": {},
   "outputs": [
    {
     "data": {
      "text/plain": [
       "9"
      ]
     },
     "execution_count": 3,
     "metadata": {},
     "output_type": "execute_result"
    }
   ],
   "source": [
    "solution([300,275],[150,150],[185,100],500)"
   ]
  },
  {
   "cell_type": "markdown",
   "metadata": {},
   "source": [
    "## Test Case Number 2"
   ]
  },
  {
   "cell_type": "code",
   "execution_count": 19,
   "metadata": {},
   "outputs": [
    {
     "data": {
      "text/plain": [
       "1.3258176636680326"
      ]
     },
     "execution_count": 19,
     "metadata": {},
     "output_type": "execute_result"
    }
   ],
   "source": [
    "import math\n",
    "math.atan2(4,1)"
   ]
  },
  {
   "cell_type": "code",
   "execution_count": 20,
   "metadata": {},
   "outputs": [
    {
     "data": {
      "text/plain": [
       "1.1071487177940904"
      ]
     },
     "execution_count": 20,
     "metadata": {},
     "output_type": "execute_result"
    }
   ],
   "source": [
    "math.atan2(2,1)"
   ]
  },
  {
   "cell_type": "code",
   "execution_count": null,
   "metadata": {},
   "outputs": [],
   "source": [
    "\n",
    "dist = 500\n",
    "dim = [300,275]\n",
    "original_wall = 'p'\n",
    "loc = [150,150]\n",
    "\n",
    "target = [185,100]\n"
   ]
  },
  {
   "cell_type": "markdown",
   "metadata": {},
   "source": [
    "## Test Case 3"
   ]
  },
  {
   "cell_type": "code",
   "execution_count": null,
   "metadata": {},
   "outputs": [],
   "source": [
    "\n",
    "dist = 8\n",
    "dim = [4,3]\n",
    "original_wall = 'p'\n",
    "original_loc = [2,1]\n",
    "paths = []\n",
    "target = [3,2]\n"
   ]
  },
  {
   "cell_type": "code",
   "execution_count": 6,
   "metadata": {},
   "outputs": [
    {
     "name": "stdout",
     "output_type": "stream",
     "text": [
      "[[1, 0], [-2, -1], [-2, 3], [2, -1], [2, 3], [4, -1], [4, 3]]\n",
      "7\n"
     ]
    }
   ],
   "source": [
    "from itertools import product\n",
    "import math\n",
    "dist = 4\n",
    "dim = [3,2]\n",
    "loc = [1,1]\n",
    "target = [2,1]\n",
    "slope = get_slope(target,loc)\n",
    "xmax = loc[0]+dist\n",
    "ymax = loc[1]+dist\n",
    "\n",
    "distances = [xmax,ymax]\n",
    "\n",
    "vectors = [[target[0]-loc[0],target[1]-loc[1]]]\n",
    "for i in get_mirrors(dim,target,distances):\n",
    "    if get_distance(loc,i) <= dist:\n",
    "        if get_slope(loc,i) != slope:            \n",
    "            vectors.append(i)\n",
    "print(vectors)\n",
    "print(len(vectors))\n"
   ]
  },
  {
   "cell_type": "code",
   "execution_count": 10,
   "metadata": {},
   "outputs": [
    {
     "data": {
      "text/plain": [
       "7"
      ]
     },
     "execution_count": 10,
     "metadata": {},
     "output_type": "execute_result"
    }
   ],
   "source": [
    "solution([3,2],[1,1],[2,1],4)"
   ]
  }
 ],
 "metadata": {
  "kernelspec": {
   "display_name": "Python 3",
   "language": "python",
   "name": "python3"
  },
  "language_info": {
   "codemirror_mode": {
    "name": "ipython",
    "version": 3
   },
   "file_extension": ".py",
   "mimetype": "text/x-python",
   "name": "python",
   "nbconvert_exporter": "python",
   "pygments_lexer": "ipython3",
   "version": "3.7.4"
  }
 },
 "nbformat": 4,
 "nbformat_minor": 4
}
